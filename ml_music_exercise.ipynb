{
 "cells": [
  {
   "cell_type": "code",
   "execution_count": 1,
   "metadata": {},
   "outputs": [
    {
     "name": "stdout",
     "output_type": "stream",
     "text": [
      "Collecting numpy\n",
      "  Downloading numpy-2.1.1-cp310-cp310-win_amd64.whl (12.9 MB)\n",
      "Installing collected packages: numpy\n",
      "Successfully installed numpy-2.1.1\n",
      "Note: you may need to restart the kernel to use updated packages.\n"
     ]
    },
    {
     "name": "stderr",
     "output_type": "stream",
     "text": [
      "  WARNING: The scripts f2py.exe and numpy-config.exe are installed in 'c:\\Users\\USER\\AppData\\Local\\Programs\\Python\\Python310\\Scripts' which is not on PATH.\n",
      "  Consider adding this directory to PATH or, if you prefer to suppress this warning, use --no-warn-script-location.\n",
      "WARNING: You are using pip version 21.2.3; however, version 24.2 is available.\n",
      "You should consider upgrading via the 'c:\\Users\\USER\\AppData\\Local\\Programs\\Python\\Python310\\python.exe -m pip install --upgrade pip' command.\n"
     ]
    }
   ],
   "source": [
    "pip install numpy\n"
   ]
  },
  {
   "cell_type": "code",
   "execution_count": 2,
   "metadata": {},
   "outputs": [
    {
     "data": {
      "text/plain": [
       "array([[ 1,  4],\n",
       "       [ 5, 12],\n",
       "       [ 9, 20]])"
      ]
     },
     "execution_count": 2,
     "metadata": {},
     "output_type": "execute_result"
    }
   ],
   "source": [
    "import numpy as np\n",
    "\n",
    "# Given list\n",
    "a = [[1, 2, 3, 4], [5, 6, 7, 8], [9, 10, 11, 12]]\n",
    "\n",
    "# Convert the list to a numpy array and name it A\n",
    "A = np.array(a)\n",
    "\n",
    "# Given matrix B\n",
    "B = np.array([[0, 1], [1, 0], [1, 1], [-1, 0]])\n",
    "\n",
    "# Perform matrix multiplication of A and B\n",
    "result = np.dot(A, B)\n",
    "\n",
    "# Output the result\n",
    "result\n"
   ]
  },
  {
   "cell_type": "code",
   "execution_count": 2,
   "metadata": {},
   "outputs": [
    {
     "name": "stdout",
     "output_type": "stream",
     "text": [
      "Requirement already satisfied: pandas in c:\\users\\user\\anaconda3\\lib\\site-packages (1.1.3)Note: you may need to restart the kernel to use updated packages.\n",
      "Requirement already satisfied: numpy>=1.15.4 in c:\\users\\user\\anaconda3\\lib\\site-packages (from pandas) (1.19.2)\n",
      "Requirement already satisfied: pytz>=2017.2 in c:\\users\\user\\anaconda3\\lib\\site-packages (from pandas) (2020.1)\n",
      "Requirement already satisfied: python-dateutil>=2.7.3 in c:\\users\\user\\anaconda3\\lib\\site-packages (from pandas) (2.8.1)\n",
      "Requirement already satisfied: six>=1.5 in c:\\users\\user\\anaconda3\\lib\\site-packages (from python-dateutil>=2.7.3->pandas) (1.15.0)\n",
      "\n"
     ]
    }
   ],
   "source": [
    "pip install pandas"
   ]
  },
  {
   "cell_type": "code",
   "execution_count": 3,
   "metadata": {},
   "outputs": [],
   "source": [
    "import pandas as pd"
   ]
  },
  {
   "cell_type": "code",
   "execution_count": 5,
   "metadata": {},
   "outputs": [
    {
     "data": {
      "text/html": [
       "<div>\n",
       "<style scoped>\n",
       "    .dataframe tbody tr th:only-of-type {\n",
       "        vertical-align: middle;\n",
       "    }\n",
       "\n",
       "    .dataframe tbody tr th {\n",
       "        vertical-align: top;\n",
       "    }\n",
       "\n",
       "    .dataframe thead th {\n",
       "        text-align: right;\n",
       "    }\n",
       "</style>\n",
       "<table border=\"1\" class=\"dataframe\">\n",
       "  <thead>\n",
       "    <tr style=\"text-align: right;\">\n",
       "      <th></th>\n",
       "      <th>Name</th>\n",
       "      <th>Age</th>\n",
       "      <th>City</th>\n",
       "      <th>Salary</th>\n",
       "    </tr>\n",
       "  </thead>\n",
       "  <tbody>\n",
       "    <tr>\n",
       "      <th>0</th>\n",
       "      <td>Alice</td>\n",
       "      <td>24.0</td>\n",
       "      <td>New York</td>\n",
       "      <td>70000.0</td>\n",
       "    </tr>\n",
       "    <tr>\n",
       "      <th>1</th>\n",
       "      <td>Bob</td>\n",
       "      <td>NaN</td>\n",
       "      <td>Los Angeles</td>\n",
       "      <td>80000.0</td>\n",
       "    </tr>\n",
       "    <tr>\n",
       "      <th>2</th>\n",
       "      <td>Charlie</td>\n",
       "      <td>22.0</td>\n",
       "      <td>None</td>\n",
       "      <td>NaN</td>\n",
       "    </tr>\n",
       "    <tr>\n",
       "      <th>3</th>\n",
       "      <td>None</td>\n",
       "      <td>32.0</td>\n",
       "      <td>Houston</td>\n",
       "      <td>120000.0</td>\n",
       "    </tr>\n",
       "    <tr>\n",
       "      <th>4</th>\n",
       "      <td>Eve</td>\n",
       "      <td>29.0</td>\n",
       "      <td>Phoenix</td>\n",
       "      <td>NaN</td>\n",
       "    </tr>\n",
       "  </tbody>\n",
       "</table>\n",
       "</div>"
      ],
      "text/plain": [
       "      Name   Age         City    Salary\n",
       "0    Alice  24.0     New York   70000.0\n",
       "1      Bob   NaN  Los Angeles   80000.0\n",
       "2  Charlie  22.0         None       NaN\n",
       "3     None  32.0      Houston  120000.0\n",
       "4      Eve  29.0      Phoenix       NaN"
      ]
     },
     "execution_count": 5,
     "metadata": {},
     "output_type": "execute_result"
    }
   ],
   "source": [
    "data = {\n",
    "'Name': ['Alice', 'Bob', 'Charlie', None, 'Eve'],\n",
    "'Age': [24, None, 22, 32, 29],\n",
    "'City': ['New York', 'Los Angeles', None, 'Houston', 'Phoenix'],\n",
    "'Salary': [70000, 80000, None, 120000, None]\n",
    "}\n",
    "\n",
    "df = pd.DataFrame(data)\n",
    "df"
   ]
  },
  {
   "cell_type": "code",
   "execution_count": 6,
   "metadata": {},
   "outputs": [
    {
     "name": "stdout",
     "output_type": "stream",
     "text": [
      "Collecting matplotlib\n",
      "  Downloading matplotlib-3.9.2-cp310-cp310-win_amd64.whl.metadata (11 kB)\n",
      "Collecting contourpy>=1.0.1 (from matplotlib)\n",
      "  Downloading contourpy-1.3.0-cp310-cp310-win_amd64.whl.metadata (5.4 kB)\n",
      "Collecting cycler>=0.10 (from matplotlib)\n",
      "  Downloading cycler-0.12.1-py3-none-any.whl.metadata (3.8 kB)\n",
      "Collecting fonttools>=4.22.0 (from matplotlib)\n",
      "  Downloading fonttools-4.54.1-cp310-cp310-win_amd64.whl.metadata (167 kB)\n",
      "Collecting kiwisolver>=1.3.1 (from matplotlib)\n",
      "  Downloading kiwisolver-1.4.7-cp310-cp310-win_amd64.whl.metadata (6.4 kB)\n",
      "Requirement already satisfied: numpy>=1.23 in c:\\users\\user\\appdata\\local\\programs\\python\\python310\\lib\\site-packages (from matplotlib) (2.1.1)\n",
      "Requirement already satisfied: packaging>=20.0 in c:\\users\\user\\appdata\\roaming\\python\\python310\\site-packages (from matplotlib) (24.1)\n",
      "Collecting pillow>=8 (from matplotlib)\n",
      "  Downloading pillow-10.4.0-cp310-cp310-win_amd64.whl.metadata (9.3 kB)\n",
      "Collecting pyparsing>=2.3.1 (from matplotlib)\n",
      "  Downloading pyparsing-3.1.4-py3-none-any.whl.metadata (5.1 kB)\n",
      "Requirement already satisfied: python-dateutil>=2.7 in c:\\users\\user\\appdata\\roaming\\python\\python310\\site-packages (from matplotlib) (2.9.0.post0)\n",
      "Requirement already satisfied: six>=1.5 in c:\\users\\user\\appdata\\roaming\\python\\python310\\site-packages (from python-dateutil>=2.7->matplotlib) (1.16.0)\n",
      "Downloading matplotlib-3.9.2-cp310-cp310-win_amd64.whl (7.8 MB)\n",
      "   ---------------------------------------- 0.0/7.8 MB ? eta -:--:--\n",
      "   ---------------------------------------- 0.0/7.8 MB ? eta -:--:--\n",
      "   ---------------------------------------- 0.0/7.8 MB ? eta -:--:--\n",
      "   - -------------------------------------- 0.3/7.8 MB ? eta -:--:--\n",
      "   -- ------------------------------------- 0.5/7.8 MB 644.1 kB/s eta 0:00:12\n",
      "   -- ------------------------------------- 0.5/7.8 MB 644.1 kB/s eta 0:00:12\n",
      "   ---- ----------------------------------- 0.8/7.8 MB 713.3 kB/s eta 0:00:10\n",
      "   ----- ---------------------------------- 1.0/7.8 MB 762.0 kB/s eta 0:00:09\n",
      "   ----- ---------------------------------- 1.0/7.8 MB 762.0 kB/s eta 0:00:09\n",
      "   ----- ---------------------------------- 1.0/7.8 MB 762.0 kB/s eta 0:00:09\n",
      "   ------ --------------------------------- 1.3/7.8 MB 604.4 kB/s eta 0:00:11\n",
      "   ------ --------------------------------- 1.3/7.8 MB 604.4 kB/s eta 0:00:11\n",
      "   -------- ------------------------------- 1.6/7.8 MB 603.5 kB/s eta 0:00:11\n",
      "   -------- ------------------------------- 1.6/7.8 MB 603.5 kB/s eta 0:00:11\n",
      "   -------- ------------------------------- 1.6/7.8 MB 603.5 kB/s eta 0:00:11\n",
      "   -------- ------------------------------- 1.6/7.8 MB 603.5 kB/s eta 0:00:11\n",
      "   -------- ------------------------------- 1.6/7.8 MB 603.5 kB/s eta 0:00:11\n",
      "   --------- ------------------------------ 1.8/7.8 MB 490.9 kB/s eta 0:00:13\n",
      "   --------- ------------------------------ 1.8/7.8 MB 490.9 kB/s eta 0:00:13\n",
      "   --------- ------------------------------ 1.8/7.8 MB 490.9 kB/s eta 0:00:13\n",
      "   --------- ------------------------------ 1.8/7.8 MB 490.9 kB/s eta 0:00:13\n",
      "   ---------- ----------------------------- 2.1/7.8 MB 449.9 kB/s eta 0:00:13\n",
      "   ---------- ----------------------------- 2.1/7.8 MB 449.9 kB/s eta 0:00:13\n",
      "   ------------ --------------------------- 2.4/7.8 MB 451.9 kB/s eta 0:00:13\n",
      "   ------------ --------------------------- 2.4/7.8 MB 451.9 kB/s eta 0:00:13\n",
      "   ------------ --------------------------- 2.4/7.8 MB 451.9 kB/s eta 0:00:13\n",
      "   ------------ --------------------------- 2.4/7.8 MB 451.9 kB/s eta 0:00:13\n",
      "   ------------ --------------------------- 2.4/7.8 MB 451.9 kB/s eta 0:00:13\n",
      "   ------------ --------------------------- 2.4/7.8 MB 451.9 kB/s eta 0:00:13\n",
      "   ------------- -------------------------- 2.6/7.8 MB 401.6 kB/s eta 0:00:13\n",
      "   ------------- -------------------------- 2.6/7.8 MB 401.6 kB/s eta 0:00:13\n",
      "   -------------- ------------------------- 2.9/7.8 MB 417.3 kB/s eta 0:00:12\n",
      "   -------------- ------------------------- 2.9/7.8 MB 417.3 kB/s eta 0:00:12\n",
      "   -------------- ------------------------- 2.9/7.8 MB 417.3 kB/s eta 0:00:12\n",
      "   ---------------- ----------------------- 3.1/7.8 MB 416.6 kB/s eta 0:00:12\n",
      "   ---------------- ----------------------- 3.1/7.8 MB 416.6 kB/s eta 0:00:12\n",
      "   ---------------- ----------------------- 3.1/7.8 MB 416.6 kB/s eta 0:00:12\n",
      "   ----------------- ---------------------- 3.4/7.8 MB 415.1 kB/s eta 0:00:11\n",
      "   ----------------- ---------------------- 3.4/7.8 MB 415.1 kB/s eta 0:00:11\n",
      "   ----------------- ---------------------- 3.4/7.8 MB 415.1 kB/s eta 0:00:11\n",
      "   ------------------ --------------------- 3.7/7.8 MB 415.4 kB/s eta 0:00:10\n",
      "   ------------------ --------------------- 3.7/7.8 MB 415.4 kB/s eta 0:00:10\n",
      "   ------------------ --------------------- 3.7/7.8 MB 415.4 kB/s eta 0:00:10\n",
      "   -------------------- ------------------- 3.9/7.8 MB 413.5 kB/s eta 0:00:10\n",
      "   --------------------- ------------------ 4.2/7.8 MB 426.5 kB/s eta 0:00:09\n",
      "   --------------------- ------------------ 4.2/7.8 MB 426.5 kB/s eta 0:00:09\n",
      "   --------------------- ------------------ 4.2/7.8 MB 426.5 kB/s eta 0:00:09\n",
      "   --------------------- ------------------ 4.2/7.8 MB 426.5 kB/s eta 0:00:09\n",
      "   --------------------- ------------------ 4.2/7.8 MB 426.5 kB/s eta 0:00:09\n",
      "   ---------------------- ----------------- 4.5/7.8 MB 412.3 kB/s eta 0:00:09\n",
      "   ---------------------- ----------------- 4.5/7.8 MB 412.3 kB/s eta 0:00:09\n",
      "   ------------------------ --------------- 4.7/7.8 MB 419.4 kB/s eta 0:00:08\n",
      "   ------------------------ --------------- 4.7/7.8 MB 419.4 kB/s eta 0:00:08\n",
      "   ------------------------- -------------- 5.0/7.8 MB 424.7 kB/s eta 0:00:07\n",
      "   ------------------------- -------------- 5.0/7.8 MB 424.7 kB/s eta 0:00:07\n",
      "   -------------------------- ------------- 5.2/7.8 MB 431.3 kB/s eta 0:00:06\n",
      "   -------------------------- ------------- 5.2/7.8 MB 431.3 kB/s eta 0:00:06\n",
      "   ---------------------------- ----------- 5.5/7.8 MB 435.7 kB/s eta 0:00:06\n",
      "   ---------------------------- ----------- 5.5/7.8 MB 435.7 kB/s eta 0:00:06\n",
      "   ---------------------------- ----------- 5.5/7.8 MB 435.7 kB/s eta 0:00:06\n",
      "   ----------------------------- ---------- 5.8/7.8 MB 436.0 kB/s eta 0:00:05\n",
      "   ----------------------------- ---------- 5.8/7.8 MB 436.0 kB/s eta 0:00:05\n",
      "   ------------------------------ --------- 6.0/7.8 MB 439.9 kB/s eta 0:00:05\n",
      "   ------------------------------ --------- 6.0/7.8 MB 439.9 kB/s eta 0:00:05\n",
      "   ------------------------------ --------- 6.0/7.8 MB 439.9 kB/s eta 0:00:05\n",
      "   -------------------------------- ------- 6.3/7.8 MB 442.5 kB/s eta 0:00:04\n",
      "   --------------------------------- ------ 6.6/7.8 MB 449.9 kB/s eta 0:00:03\n",
      "   --------------------------------- ------ 6.6/7.8 MB 449.9 kB/s eta 0:00:03\n",
      "   --------------------------------- ------ 6.6/7.8 MB 449.9 kB/s eta 0:00:03\n",
      "   ---------------------------------- ----- 6.8/7.8 MB 451.5 kB/s eta 0:00:03\n",
      "   ---------------------------------- ----- 6.8/7.8 MB 451.5 kB/s eta 0:00:03\n",
      "   ------------------------------------ --- 7.1/7.8 MB 456.3 kB/s eta 0:00:02\n",
      "   ------------------------------------- -- 7.3/7.8 MB 463.6 kB/s eta 0:00:02\n",
      "   ------------------------------------- -- 7.3/7.8 MB 463.6 kB/s eta 0:00:02\n",
      "   -------------------------------------- - 7.6/7.8 MB 470.7 kB/s eta 0:00:01\n",
      "   -------------------------------------- - 7.6/7.8 MB 470.7 kB/s eta 0:00:01\n",
      "   ---------------------------------------- 7.8/7.8 MB 470.5 kB/s eta 0:00:00\n",
      "Downloading contourpy-1.3.0-cp310-cp310-win_amd64.whl (216 kB)\n",
      "Downloading cycler-0.12.1-py3-none-any.whl (8.3 kB)\n",
      "Downloading fonttools-4.54.1-cp310-cp310-win_amd64.whl (2.2 MB)\n",
      "   ---------------------------------------- 0.0/2.2 MB ? eta -:--:--\n",
      "   ---------------------------------------- 0.0/2.2 MB ? eta -:--:--\n",
      "   ---- ----------------------------------- 0.3/2.2 MB ? eta -:--:--\n",
      "   ---- ----------------------------------- 0.3/2.2 MB ? eta -:--:--\n",
      "   --------- ------------------------------ 0.5/2.2 MB 645.7 kB/s eta 0:00:03\n",
      "   --------- ------------------------------ 0.5/2.2 MB 645.7 kB/s eta 0:00:03\n",
      "   -------------- ------------------------- 0.8/2.2 MB 684.4 kB/s eta 0:00:03\n",
      "   -------------- ------------------------- 0.8/2.2 MB 684.4 kB/s eta 0:00:03\n",
      "   ------------------ --------------------- 1.0/2.2 MB 662.0 kB/s eta 0:00:02\n",
      "   ------------------ --------------------- 1.0/2.2 MB 662.0 kB/s eta 0:00:02\n",
      "   ----------------------- ---------------- 1.3/2.2 MB 599.2 kB/s eta 0:00:02\n",
      "   ----------------------- ---------------- 1.3/2.2 MB 599.2 kB/s eta 0:00:02\n",
      "   ---------------------------- ----------- 1.6/2.2 MB 603.5 kB/s eta 0:00:02\n",
      "   ---------------------------- ----------- 1.6/2.2 MB 603.5 kB/s eta 0:00:02\n",
      "   ---------------------------- ----------- 1.6/2.2 MB 603.5 kB/s eta 0:00:02\n",
      "   --------------------------------- ------ 1.8/2.2 MB 592.2 kB/s eta 0:00:01\n",
      "   --------------------------------- ------ 1.8/2.2 MB 592.2 kB/s eta 0:00:01\n",
      "   ------------------------------------- -- 2.1/2.2 MB 584.2 kB/s eta 0:00:01\n",
      "   ------------------------------------- -- 2.1/2.2 MB 584.2 kB/s eta 0:00:01\n",
      "   ---------------------------------------- 2.2/2.2 MB 535.1 kB/s eta 0:00:00\n",
      "Downloading kiwisolver-1.4.7-cp310-cp310-win_amd64.whl (55 kB)\n",
      "Downloading pillow-10.4.0-cp310-cp310-win_amd64.whl (2.6 MB)\n",
      "   ---------------------------------------- 0.0/2.6 MB ? eta -:--:--\n",
      "   ---------------------------------------- 0.0/2.6 MB ? eta -:--:--\n",
      "   ---- ----------------------------------- 0.3/2.6 MB ? eta -:--:--\n",
      "   ---- ----------------------------------- 0.3/2.6 MB ? eta -:--:--\n",
      "   -------- ------------------------------- 0.5/2.6 MB 762.0 kB/s eta 0:00:03\n",
      "   -------- ------------------------------- 0.5/2.6 MB 762.0 kB/s eta 0:00:03\n",
      "   -------- ------------------------------- 0.5/2.6 MB 762.0 kB/s eta 0:00:03\n",
      "   ------------ --------------------------- 0.8/2.6 MB 508.5 kB/s eta 0:00:04\n",
      "   ------------ --------------------------- 0.8/2.6 MB 508.5 kB/s eta 0:00:04\n",
      "   ---------------- ----------------------- 1.0/2.6 MB 513.7 kB/s eta 0:00:03\n",
      "   ---------------- ----------------------- 1.0/2.6 MB 513.7 kB/s eta 0:00:03\n",
      "   ---------------- ----------------------- 1.0/2.6 MB 513.7 kB/s eta 0:00:03\n",
      "   -------------------- ------------------- 1.3/2.6 MB 469.4 kB/s eta 0:00:03\n",
      "   -------------------- ------------------- 1.3/2.6 MB 469.4 kB/s eta 0:00:03\n",
      "   -------------------- ------------------- 1.3/2.6 MB 469.4 kB/s eta 0:00:03\n",
      "   ------------------------ --------------- 1.6/2.6 MB 466.1 kB/s eta 0:00:03\n",
      "   ------------------------ --------------- 1.6/2.6 MB 466.1 kB/s eta 0:00:03\n",
      "   ------------------------ --------------- 1.6/2.6 MB 466.1 kB/s eta 0:00:03\n",
      "   ---------------------------- ----------- 1.8/2.6 MB 447.5 kB/s eta 0:00:02\n",
      "   ---------------------------- ----------- 1.8/2.6 MB 447.5 kB/s eta 0:00:02\n",
      "   -------------------------------- ------- 2.1/2.6 MB 464.2 kB/s eta 0:00:01\n",
      "   -------------------------------- ------- 2.1/2.6 MB 464.2 kB/s eta 0:00:01\n",
      "   -------------------------------- ------- 2.1/2.6 MB 464.2 kB/s eta 0:00:01\n",
      "   ------------------------------------ --- 2.4/2.6 MB 455.0 kB/s eta 0:00:01\n",
      "   ------------------------------------ --- 2.4/2.6 MB 455.0 kB/s eta 0:00:01\n",
      "   ------------------------------------ --- 2.4/2.6 MB 455.0 kB/s eta 0:00:01\n",
      "   ---------------------------------------- 2.6/2.6 MB 443.2 kB/s eta 0:00:00\n",
      "Downloading pyparsing-3.1.4-py3-none-any.whl (104 kB)\n",
      "Installing collected packages: pyparsing, pillow, kiwisolver, fonttools, cycler, contourpy, matplotlib\n",
      "Successfully installed contourpy-1.3.0 cycler-0.12.1 fonttools-4.54.1 kiwisolver-1.4.7 matplotlib-3.9.2 pillow-10.4.0 pyparsing-3.1.4\n",
      "Note: you may need to restart the kernel to use updated packages.\n"
     ]
    },
    {
     "name": "stderr",
     "output_type": "stream",
     "text": [
      "  WARNING: The scripts fonttools.exe, pyftmerge.exe, pyftsubset.exe and ttx.exe are installed in 'c:\\Users\\USER\\AppData\\Local\\Programs\\Python\\Python310\\Scripts' which is not on PATH.\n",
      "  Consider adding this directory to PATH or, if you prefer to suppress this warning, use --no-warn-script-location.\n"
     ]
    }
   ],
   "source": [
    "pip install matplotlib\n"
   ]
  },
  {
   "cell_type": "code",
   "execution_count": 8,
   "metadata": {},
   "outputs": [
    {
     "data": {
      "text/plain": [
       "Name      1\n",
       "Age       1\n",
       "City      1\n",
       "Salary    2\n",
       "dtype: int64"
      ]
     },
     "execution_count": 8,
     "metadata": {},
     "output_type": "execute_result"
    }
   ],
   "source": [
    " missing_values = df.isna().sum()\n",
    "missing_values"
   ]
  },
  {
   "cell_type": "code",
   "execution_count": 13,
   "metadata": {},
   "outputs": [
    {
     "data": {
      "text/plain": [
       "0     70000.0\n",
       "1     80000.0\n",
       "2     90000.0\n",
       "3    120000.0\n",
       "4     90000.0\n",
       "Name: Salary, dtype: float64"
      ]
     },
     "execution_count": 13,
     "metadata": {},
     "output_type": "execute_result"
    }
   ],
   "source": [
    "Salary_Filled = df['Salary'].fillna(df['Salary'].mean())\n",
    "Salary_Filled"
   ]
  },
  {
   "cell_type": "code",
   "execution_count": 14,
   "metadata": {},
   "outputs": [
    {
     "name": "stdout",
     "output_type": "stream",
     "text": [
      "Integer: 42 -> Float: 42.0\n"
     ]
    }
   ],
   "source": [
    "def convert_integer_to_float(integer_value):\n",
    "    return float(integer_value)\n",
    "\n",
    "# Example usage\n",
    "if __name__ == \"__main__\":\n",
    "    # Input integer\n",
    "    int_value = 42  # You can change this value to test\n",
    "    float_value = convert_integer_to_float(int_value)\n",
    "    \n",
    "    print(f\"Integer: {int_value} -> Float: {float_value}\")"
   ]
  },
  {
   "cell_type": "code",
   "execution_count": 5,
   "metadata": {},
   "outputs": [],
   "source": [
    "music = pd.read_csv('C://Users//USER//Downloads//music.csv')"
   ]
  },
  {
   "cell_type": "code",
   "execution_count": 6,
   "metadata": {},
   "outputs": [
    {
     "data": {
      "text/plain": [
       "<bound method NDFrame.head of     age  gender      genre\n",
       "0    20       1     HipHop\n",
       "1    23       1     HipHop\n",
       "2    25       1     HipHop\n",
       "3    26       1       Jazz\n",
       "4    29       1       Jazz\n",
       "5    30       1       Jazz\n",
       "6    31       1  Classical\n",
       "7    33       1  Classical\n",
       "8    37       1  Classical\n",
       "9    20       0      Dance\n",
       "10   21       0      Dance\n",
       "11   25       0      Dance\n",
       "12   26       0   Acoustic\n",
       "13   27       0   Acoustic\n",
       "14   30       0   Acoustic\n",
       "15   31       0  Classical\n",
       "16   34       0  Classical\n",
       "17   35       0  Classical>"
      ]
     },
     "execution_count": 6,
     "metadata": {},
     "output_type": "execute_result"
    }
   ],
   "source": [
    "music.head"
   ]
  },
  {
   "cell_type": "code",
   "execution_count": 7,
   "metadata": {},
   "outputs": [
    {
     "data": {
      "text/plain": [
       "(18, 3)"
      ]
     },
     "execution_count": 7,
     "metadata": {},
     "output_type": "execute_result"
    }
   ],
   "source": [
    "music.shape"
   ]
  },
  {
   "cell_type": "code",
   "execution_count": 10,
   "metadata": {},
   "outputs": [
    {
     "data": {
      "text/plain": [
       "<bound method DataFrame.info of     age  gender      genre\n",
       "0    20       1     HipHop\n",
       "1    23       1     HipHop\n",
       "2    25       1     HipHop\n",
       "3    26       1       Jazz\n",
       "4    29       1       Jazz\n",
       "5    30       1       Jazz\n",
       "6    31       1  Classical\n",
       "7    33       1  Classical\n",
       "8    37       1  Classical\n",
       "9    20       0      Dance\n",
       "10   21       0      Dance\n",
       "11   25       0      Dance\n",
       "12   26       0   Acoustic\n",
       "13   27       0   Acoustic\n",
       "14   30       0   Acoustic\n",
       "15   31       0  Classical\n",
       "16   34       0  Classical\n",
       "17   35       0  Classical>"
      ]
     },
     "execution_count": 10,
     "metadata": {},
     "output_type": "execute_result"
    }
   ],
   "source": [
    "music.info"
   ]
  },
  {
   "cell_type": "code",
   "execution_count": 11,
   "metadata": {},
   "outputs": [
    {
     "data": {
      "text/plain": [
       "<bound method DataFrame.info of     age  gender      genre\n",
       "0    20       1     HipHop\n",
       "1    23       1     HipHop\n",
       "2    25       1     HipHop\n",
       "3    26       1       Jazz\n",
       "4    29       1       Jazz\n",
       "5    30       1       Jazz\n",
       "6    31       1  Classical\n",
       "7    33       1  Classical\n",
       "8    37       1  Classical\n",
       "9    20       0      Dance\n",
       "10   21       0      Dance\n",
       "11   25       0      Dance\n",
       "12   26       0   Acoustic\n",
       "13   27       0   Acoustic\n",
       "14   30       0   Acoustic\n",
       "15   31       0  Classical\n",
       "16   34       0  Classical\n",
       "17   35       0  Classical>"
      ]
     },
     "execution_count": 11,
     "metadata": {},
     "output_type": "execute_result"
    }
   ],
   "source": [
    "music.info"
   ]
  },
  {
   "cell_type": "code",
   "execution_count": 12,
   "metadata": {},
   "outputs": [
    {
     "data": {
      "text/plain": [
       "<bound method NDFrame.describe of     age  gender      genre\n",
       "0    20       1     HipHop\n",
       "1    23       1     HipHop\n",
       "2    25       1     HipHop\n",
       "3    26       1       Jazz\n",
       "4    29       1       Jazz\n",
       "5    30       1       Jazz\n",
       "6    31       1  Classical\n",
       "7    33       1  Classical\n",
       "8    37       1  Classical\n",
       "9    20       0      Dance\n",
       "10   21       0      Dance\n",
       "11   25       0      Dance\n",
       "12   26       0   Acoustic\n",
       "13   27       0   Acoustic\n",
       "14   30       0   Acoustic\n",
       "15   31       0  Classical\n",
       "16   34       0  Classical\n",
       "17   35       0  Classical>"
      ]
     },
     "execution_count": 12,
     "metadata": {},
     "output_type": "execute_result"
    }
   ],
   "source": [
    "music.describe"
   ]
  },
  {
   "cell_type": "code",
   "execution_count": 13,
   "metadata": {},
   "outputs": [
    {
     "data": {
      "text/plain": [
       "<bound method DataFrame.drop_duplicates of     age  gender      genre\n",
       "0    20       1     HipHop\n",
       "1    23       1     HipHop\n",
       "2    25       1     HipHop\n",
       "3    26       1       Jazz\n",
       "4    29       1       Jazz\n",
       "5    30       1       Jazz\n",
       "6    31       1  Classical\n",
       "7    33       1  Classical\n",
       "8    37       1  Classical\n",
       "9    20       0      Dance\n",
       "10   21       0      Dance\n",
       "11   25       0      Dance\n",
       "12   26       0   Acoustic\n",
       "13   27       0   Acoustic\n",
       "14   30       0   Acoustic\n",
       "15   31       0  Classical\n",
       "16   34       0  Classical\n",
       "17   35       0  Classical>"
      ]
     },
     "execution_count": 13,
     "metadata": {},
     "output_type": "execute_result"
    }
   ],
   "source": [
    "music.drop_duplicates"
   ]
  },
  {
   "cell_type": "code",
   "execution_count": 14,
   "metadata": {},
   "outputs": [
    {
     "data": {
      "text/plain": [
       "<bound method DataFrame.dropna of     age  gender      genre\n",
       "0    20       1     HipHop\n",
       "1    23       1     HipHop\n",
       "2    25       1     HipHop\n",
       "3    26       1       Jazz\n",
       "4    29       1       Jazz\n",
       "5    30       1       Jazz\n",
       "6    31       1  Classical\n",
       "7    33       1  Classical\n",
       "8    37       1  Classical\n",
       "9    20       0      Dance\n",
       "10   21       0      Dance\n",
       "11   25       0      Dance\n",
       "12   26       0   Acoustic\n",
       "13   27       0   Acoustic\n",
       "14   30       0   Acoustic\n",
       "15   31       0  Classical\n",
       "16   34       0  Classical\n",
       "17   35       0  Classical>"
      ]
     },
     "execution_count": 14,
     "metadata": {},
     "output_type": "execute_result"
    }
   ],
   "source": [
    "music.dropna"
   ]
  },
  {
   "cell_type": "code",
   "execution_count": 16,
   "metadata": {},
   "outputs": [],
   "source": [
    "# Remove duplicates\n",
    "music = music.drop_duplicates()\n"
   ]
  },
  {
   "cell_type": "code",
   "execution_count": 73,
   "metadata": {},
   "outputs": [
    {
     "data": {
      "text/html": [
       "<div>\n",
       "<style scoped>\n",
       "    .dataframe tbody tr th:only-of-type {\n",
       "        vertical-align: middle;\n",
       "    }\n",
       "\n",
       "    .dataframe tbody tr th {\n",
       "        vertical-align: top;\n",
       "    }\n",
       "\n",
       "    .dataframe thead th {\n",
       "        text-align: right;\n",
       "    }\n",
       "</style>\n",
       "<table border=\"1\" class=\"dataframe\">\n",
       "  <thead>\n",
       "    <tr style=\"text-align: right;\">\n",
       "      <th></th>\n",
       "      <th>age</th>\n",
       "      <th>gender</th>\n",
       "      <th>genre</th>\n",
       "    </tr>\n",
       "  </thead>\n",
       "  <tbody>\n",
       "    <tr>\n",
       "      <th>0</th>\n",
       "      <td>20</td>\n",
       "      <td>1</td>\n",
       "      <td>HipHop</td>\n",
       "    </tr>\n",
       "    <tr>\n",
       "      <th>1</th>\n",
       "      <td>23</td>\n",
       "      <td>1</td>\n",
       "      <td>HipHop</td>\n",
       "    </tr>\n",
       "    <tr>\n",
       "      <th>2</th>\n",
       "      <td>25</td>\n",
       "      <td>1</td>\n",
       "      <td>HipHop</td>\n",
       "    </tr>\n",
       "    <tr>\n",
       "      <th>3</th>\n",
       "      <td>26</td>\n",
       "      <td>1</td>\n",
       "      <td>Jazz</td>\n",
       "    </tr>\n",
       "    <tr>\n",
       "      <th>4</th>\n",
       "      <td>29</td>\n",
       "      <td>1</td>\n",
       "      <td>Jazz</td>\n",
       "    </tr>\n",
       "    <tr>\n",
       "      <th>5</th>\n",
       "      <td>30</td>\n",
       "      <td>1</td>\n",
       "      <td>Jazz</td>\n",
       "    </tr>\n",
       "    <tr>\n",
       "      <th>6</th>\n",
       "      <td>31</td>\n",
       "      <td>1</td>\n",
       "      <td>Classical</td>\n",
       "    </tr>\n",
       "    <tr>\n",
       "      <th>7</th>\n",
       "      <td>33</td>\n",
       "      <td>1</td>\n",
       "      <td>Classical</td>\n",
       "    </tr>\n",
       "    <tr>\n",
       "      <th>8</th>\n",
       "      <td>37</td>\n",
       "      <td>1</td>\n",
       "      <td>Classical</td>\n",
       "    </tr>\n",
       "    <tr>\n",
       "      <th>9</th>\n",
       "      <td>20</td>\n",
       "      <td>0</td>\n",
       "      <td>Dance</td>\n",
       "    </tr>\n",
       "    <tr>\n",
       "      <th>10</th>\n",
       "      <td>21</td>\n",
       "      <td>0</td>\n",
       "      <td>Dance</td>\n",
       "    </tr>\n",
       "    <tr>\n",
       "      <th>11</th>\n",
       "      <td>25</td>\n",
       "      <td>0</td>\n",
       "      <td>Dance</td>\n",
       "    </tr>\n",
       "    <tr>\n",
       "      <th>12</th>\n",
       "      <td>26</td>\n",
       "      <td>0</td>\n",
       "      <td>Acoustic</td>\n",
       "    </tr>\n",
       "    <tr>\n",
       "      <th>13</th>\n",
       "      <td>27</td>\n",
       "      <td>0</td>\n",
       "      <td>Acoustic</td>\n",
       "    </tr>\n",
       "    <tr>\n",
       "      <th>14</th>\n",
       "      <td>30</td>\n",
       "      <td>0</td>\n",
       "      <td>Acoustic</td>\n",
       "    </tr>\n",
       "    <tr>\n",
       "      <th>15</th>\n",
       "      <td>31</td>\n",
       "      <td>0</td>\n",
       "      <td>Classical</td>\n",
       "    </tr>\n",
       "    <tr>\n",
       "      <th>16</th>\n",
       "      <td>34</td>\n",
       "      <td>0</td>\n",
       "      <td>Classical</td>\n",
       "    </tr>\n",
       "    <tr>\n",
       "      <th>17</th>\n",
       "      <td>35</td>\n",
       "      <td>0</td>\n",
       "      <td>Classical</td>\n",
       "    </tr>\n",
       "  </tbody>\n",
       "</table>\n",
       "</div>"
      ],
      "text/plain": [
       "    age  gender      genre\n",
       "0    20       1     HipHop\n",
       "1    23       1     HipHop\n",
       "2    25       1     HipHop\n",
       "3    26       1       Jazz\n",
       "4    29       1       Jazz\n",
       "5    30       1       Jazz\n",
       "6    31       1  Classical\n",
       "7    33       1  Classical\n",
       "8    37       1  Classical\n",
       "9    20       0      Dance\n",
       "10   21       0      Dance\n",
       "11   25       0      Dance\n",
       "12   26       0   Acoustic\n",
       "13   27       0   Acoustic\n",
       "14   30       0   Acoustic\n",
       "15   31       0  Classical\n",
       "16   34       0  Classical\n",
       "17   35       0  Classical"
      ]
     },
     "execution_count": 73,
     "metadata": {},
     "output_type": "execute_result"
    }
   ],
   "source": [
    "music"
   ]
  },
  {
   "cell_type": "code",
   "execution_count": 74,
   "metadata": {},
   "outputs": [],
   "source": [
    "# Split into features and labels\n",
    "X = music[['age', 'gender']]\n",
    "y = music['genre']\n"
   ]
  },
  {
   "cell_type": "code",
   "execution_count": 83,
   "metadata": {},
   "outputs": [
    {
     "data": {
      "text/plain": [
       "DecisionTreeClassifier()"
      ]
     },
     "execution_count": 83,
     "metadata": {},
     "output_type": "execute_result"
    }
   ],
   "source": [
    "from sklearn.linear_model import LogisticRegression\n",
    "from sklearn.model_selection import train_test_split\n",
    "\n",
    "# Split the data into training and testing sets\n",
    "X_train, X_test, y_train, y_test = train_test_split(X, y, test_size=0.4, random_state=42)\n",
    "\n",
    "# Initialize and train the model\n",
    "model = DecisionTreeClassifier()\n",
    "model.fit(X_train, y_train)\n"
   ]
  },
  {
   "cell_type": "code",
   "execution_count": 84,
   "metadata": {},
   "outputs": [],
   "source": [
    "y_pred = model.predict(X_test)"
   ]
  },
  {
   "cell_type": "code",
   "execution_count": 85,
   "metadata": {},
   "outputs": [
    {
     "data": {
      "text/plain": [
       "array(['HipHop', 'HipHop', 'Classical', 'Jazz', 'Jazz', 'Acoustic',\n",
       "       'Classical', 'Classical'], dtype=object)"
      ]
     },
     "execution_count": 85,
     "metadata": {},
     "output_type": "execute_result"
    }
   ],
   "source": [
    "y_pred"
   ]
  },
  {
   "cell_type": "code",
   "execution_count": 86,
   "metadata": {},
   "outputs": [],
   "source": [
    "from sklearn.metrics import accuracy_score\n",
    "ACCURACY = accuracy_score(y_pred, y_test)"
   ]
  },
  {
   "cell_type": "code",
   "execution_count": 87,
   "metadata": {},
   "outputs": [
    {
     "name": "stdout",
     "output_type": "stream",
     "text": [
      "ACCURACY : 1.0\n"
     ]
    }
   ],
   "source": [
    "print(f'ACCURACY : {ACCURACY}')"
   ]
  }
 ],
 "metadata": {
  "kernelspec": {
   "display_name": "Python 3",
   "language": "python",
   "name": "python3"
  },
  "language_info": {
   "codemirror_mode": {
    "name": "ipython",
    "version": 3
   },
   "file_extension": ".py",
   "mimetype": "text/x-python",
   "name": "python",
   "nbconvert_exporter": "python",
   "pygments_lexer": "ipython3",
   "version": "3.8.5"
  }
 },
 "nbformat": 4,
 "nbformat_minor": 2
}
